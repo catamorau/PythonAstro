{
 "cells": [
  {
   "cell_type": "code",
   "execution_count": 1,
   "metadata": {},
   "outputs": [],
   "source": [
    "n= 100\n",
    "m = 200\n",
    "lim = [n,m]\n",
    "\n",
    "for k in lim:\n",
    "    with open('primes_%s.txt'%k, 'w') as f:\n",
    "        for num in range(2,k + 1):\n",
    "               if num > 1:\n",
    "                    for i in range(2,num):\n",
    "                        if (num % i) == 0:\n",
    "                             break\n",
    "                    else:\n",
    "                        f.write(str('%d\\n'%num))"
   ]
  },
  {
   "cell_type": "code",
   "execution_count": 2,
   "metadata": {},
   "outputs": [
    {
     "data": {
      "image/png": "[encoded data removed]",
      "text/plain": [
       "<Figure size 432x288 with 1 Axes>"
      ]
     },
     "metadata": {
      "needs_background": "light"
     },
     "output_type": "display_data"
    }
   ],
   "source": [
    "import numpy as np\n",
    "import matplotlib.pyplot as plt\n",
    "n_bins = 100\n",
    "\n",
    "def plot_cumulative(filename):\n",
    "    data = np.loadtxt(filename)\n",
    "    x = list(data)\n",
    "    fig, ax = plt.subplots(1,1)\n",
    "    ax.hist(x, n_bins, density=False, histtype='bar', cumulative=True)\n",
    "    N = filename.split('_')[-1].split('.')[0]\n",
    "    ax.set_title('Cumulative histograms %s' %N)\n",
    "\n",
    "plot_cumulative('primes_100.txt')"
   ]
  },
  {
   "cell_type": "code",
   "execution_count": 3,
   "metadata": {},
   "outputs": [
    {
     "data": {
      "image/png": "[encoded data removed]",
      "text/plain": [
       "<Figure size 432x288 with 1 Axes>"
      ]
     },
     "metadata": {
      "needs_background": "light"
     },
     "output_type": "display_data"
    }
   ],
   "source": [
    "plot_cumulative('primes_200.txt')"
   ]
  }
 ],
 "metadata": {
  "kernelspec": {
   "display_name": "Python 3",
   "language": "python",
   "name": "python3"
  },
  "language_info": {
   "codemirror_mode": {
    "name": "ipython",
    "version": 3
   },
   "file_extension": ".py",
   "mimetype": "text/x-python",
   "name": "python",
   "nbconvert_exporter": "python",
   "pygments_lexer": "ipython3",
   "version": "3.8.5"
  }
 },
 "nbformat": 4,
 "nbformat_minor": 4
}
